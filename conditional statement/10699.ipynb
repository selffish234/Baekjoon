{
 "cells": [
  {
   "cell_type": "code",
   "execution_count": 6,
   "id": "43ffe728",
   "metadata": {},
   "outputs": [
    {
     "name": "stdout",
     "output_type": "stream",
     "text": [
      "2024-02-12\n"
     ]
    }
   ],
   "source": [
    "import datetime\n",
    "print(str(datetime.datetime.today())[:10])"
   ]
  },
  {
   "cell_type": "code",
   "execution_count": 8,
   "id": "03710715",
   "metadata": {},
   "outputs": [
    {
     "name": "stdout",
     "output_type": "stream",
     "text": [
      "2024-02-12\n"
     ]
    }
   ],
   "source": [
    "d = datetime.date.today()\n",
    "print(str(d))"
   ]
  },
  {
   "cell_type": "code",
   "execution_count": 17,
   "id": "5e6cb19e",
   "metadata": {},
   "outputs": [
    {
     "name": "stdout",
     "output_type": "stream",
     "text": [
      "1\n",
      "1\n",
      "0\n",
      "0\n"
     ]
    }
   ],
   "source": [
    "A = 5\n",
    "B = 8 \n",
    "C = 4\n",
    "a = (A+B)%C\n",
    "b = ((A%C) + (B%C))%C\n",
    "c = (A*B)%C\n",
    "d = ((A%C) * (B%C))%C\n",
    "print(a)\n",
    "print(b)\n",
    "print(c)\n",
    "print(d)"
   ]
  },
  {
   "cell_type": "code",
   "execution_count": 23,
   "id": "98d2980b",
   "metadata": {
    "scrolled": true
   },
   "outputs": [
    {
     "name": "stdout",
     "output_type": "stream",
     "text": [
      "1 1 1\n",
      "3\n"
     ]
    }
   ],
   "source": [
    "A, B, C = map(int, input().split())\n",
    "\n",
    "if A == B and B==C:\n",
    "    print(A+B+C)"
   ]
  },
  {
   "cell_type": "code",
   "execution_count": 26,
   "id": "e3f91b52",
   "metadata": {},
   "outputs": [
    {
     "name": "stdout",
     "output_type": "stream",
     "text": [
      "1 2 4\n",
      "400\n"
     ]
    }
   ],
   "source": [
    "A, B, C = map(int, input().split())\n",
    "\n",
    "if A == B == C:\n",
    "    print(10000+A*1000)\n",
    "elif A == B:\n",
    "    print(1000+A*100)\n",
    "elif B == C:\n",
    "    print(1000+B*100)\n",
    "elif A == C:\n",
    "    print(1000+C*100)\n",
    "else:\n",
    "    print(100*max(A, B, C))"
   ]
  },
  {
   "cell_type": "code",
   "execution_count": null,
   "id": "d1157285",
   "metadata": {},
   "outputs": [],
   "source": []
  }
 ],
 "metadata": {
  "kernelspec": {
   "display_name": "Python 3 (ipykernel)",
   "language": "python",
   "name": "python3"
  },
  "language_info": {
   "codemirror_mode": {
    "name": "ipython",
    "version": 3
   },
   "file_extension": ".py",
   "mimetype": "text/x-python",
   "name": "python",
   "nbconvert_exporter": "python",
   "pygments_lexer": "ipython3",
   "version": "3.11.5"
  }
 },
 "nbformat": 4,
 "nbformat_minor": 5
}
